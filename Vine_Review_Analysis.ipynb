{
 "cells": [
  {
   "cell_type": "code",
   "execution_count": 1,
   "metadata": {
    "colab": {
     "base_uri": "https://localhost:8080/"
    },
    "id": "_BCmygsPt51D",
    "outputId": "ca134f6d-0663-46be-d951-4fcd2a6f2f78"
   },
   "outputs": [
    {
     "name": "stderr",
     "output_type": "stream",
     "text": [
      "'apt-get' is not recognized as an internal or external command,\n",
      "operable program or batch file.\n",
      "The system cannot find the path specified.\n",
      "'wget' is not recognized as an internal or external command,\n",
      "operable program or batch file.\n",
      "'tar' is not recognized as an internal or external command,\n",
      "operable program or batch file.\n"
     ]
    },
    {
     "name": "stdout",
     "output_type": "stream",
     "text": [
      "^C\n"
     ]
    },
    {
     "name": "stderr",
     "output_type": "stream",
     "text": [
      "Traceback (most recent call last):\n",
      "  File \"C:\\Users\\fuzzy\\anaconda3\\Scripts\\pip-script.py\", line 6, in <module>\n",
      "    from pip._internal.cli.main import main\n",
      "  File \"C:\\Users\\fuzzy\\anaconda3\\lib\\site-packages\\pip\\_internal\\cli\\main.py\", line 9, in <module>\n",
      "    from pip._internal.cli.autocompletion import autocomplete\n",
      "  File \"C:\\Users\\fuzzy\\anaconda3\\lib\\site-packages\\pip\\_internal\\cli\\autocompletion.py\", line 10, in <module>\n",
      "    from pip._internal.cli.main_parser import create_main_parser\n",
      "  File \"C:\\Users\\fuzzy\\anaconda3\\lib\\site-packages\\pip\\_internal\\cli\\main_parser.py\", line 8, in <module>\n",
      "    from pip._internal.cli import cmdoptions\n",
      "  File \"C:\\Users\\fuzzy\\anaconda3\\lib\\site-packages\\pip\\_internal\\cli\\cmdoptions.py\", line 23, in <module>\n",
      "    from pip._internal.cli.parser import ConfigOptionParser\n",
      "  File \"C:\\Users\\fuzzy\\anaconda3\\lib\\site-packages\\pip\\_internal\\cli\\parser.py\", line 12, in <module>\n",
      "    from pip._internal.configuration import Configuration, ConfigurationError\n",
      "  File \"C:\\Users\\fuzzy\\anaconda3\\lib\\site-packages\\pip\\_internal\\configuration.py\", line 21, in <module>\n",
      "    from pip._internal.exceptions import (\n",
      "  File \"C:\\Users\\fuzzy\\anaconda3\\lib\\site-packages\\pip\\_internal\\exceptions.py\", line 7, in <module>\n",
      "    from pip._vendor.pkg_resources import Distribution\n",
      "  File \"C:\\Users\\fuzzy\\anaconda3\\lib\\site-packages\\pip\\_vendor\\pkg_resources\\__init__.py\", line 35, in <module>\n",
      "    import plistlib\n",
      "  File \"C:\\Users\\fuzzy\\anaconda3\\lib\\plistlib.py\", line 65, in <module>\n",
      "    from xml.parsers.expat import ParserCreate\n",
      "  File \"C:\\Users\\fuzzy\\anaconda3\\lib\\xml\\parsers\\expat.py\", line 4, in <module>\n",
      "    from pyexpat import *\n",
      "  File \"<frozen importlib._bootstrap>\", line 991, in _find_and_load\n",
      "  File \"<frozen importlib._bootstrap>\", line 971, in _find_and_load_unlocked\n",
      "  File \"<frozen importlib._bootstrap>\", line 914, in _find_spec\n",
      "  File \"<frozen importlib._bootstrap_external>\", line 1342, in find_spec\n",
      "  File \"<frozen importlib._bootstrap_external>\", line 1314, in _get_spec\n",
      "  File \"<frozen importlib._bootstrap_external>\", line 1469, in find_spec\n",
      "  File \"<frozen importlib._bootstrap_external>\", line 101, in _path_isfile\n",
      "  File \"<frozen importlib._bootstrap_external>\", line 93, in _path_is_mode_type\n",
      "  File \"<frozen importlib._bootstrap_external>\", line 87, in _path_stat\n",
      "KeyboardInterrupt\n"
     ]
    },
    {
     "ename": "Exception",
     "evalue": "Unable to find py4j in /content/spark-3.0.3-bin-hadoop2.7\\python, your SPARK_HOME may not be configured correctly",
     "output_type": "error",
     "traceback": [
      "\u001B[1;31m---------------------------------------------------------------------------\u001B[0m",
      "\u001B[1;31mIndexError\u001B[0m                                Traceback (most recent call last)",
      "\u001B[1;32m~\\anaconda3\\lib\\site-packages\\findspark.py\u001B[0m in \u001B[0;36minit\u001B[1;34m(spark_home, python_path, edit_rc, edit_profile)\u001B[0m\n\u001B[0;32m    157\u001B[0m         \u001B[1;32mtry\u001B[0m\u001B[1;33m:\u001B[0m\u001B[1;33m\u001B[0m\u001B[1;33m\u001B[0m\u001B[0m\n\u001B[1;32m--> 158\u001B[1;33m             \u001B[0mpy4j\u001B[0m \u001B[1;33m=\u001B[0m \u001B[0mglob\u001B[0m\u001B[1;33m(\u001B[0m\u001B[0mos\u001B[0m\u001B[1;33m.\u001B[0m\u001B[0mpath\u001B[0m\u001B[1;33m.\u001B[0m\u001B[0mjoin\u001B[0m\u001B[1;33m(\u001B[0m\u001B[0mspark_python\u001B[0m\u001B[1;33m,\u001B[0m \u001B[1;34m\"lib\"\u001B[0m\u001B[1;33m,\u001B[0m \u001B[1;34m\"py4j-*.zip\"\u001B[0m\u001B[1;33m)\u001B[0m\u001B[1;33m)\u001B[0m\u001B[1;33m[\u001B[0m\u001B[1;36m0\u001B[0m\u001B[1;33m]\u001B[0m\u001B[1;33m\u001B[0m\u001B[1;33m\u001B[0m\u001B[0m\n\u001B[0m\u001B[0;32m    159\u001B[0m         \u001B[1;32mexcept\u001B[0m \u001B[0mIndexError\u001B[0m\u001B[1;33m:\u001B[0m\u001B[1;33m\u001B[0m\u001B[1;33m\u001B[0m\u001B[0m\n",
      "\u001B[1;31mIndexError\u001B[0m: list index out of range",
      "\nDuring handling of the above exception, another exception occurred:\n",
      "\u001B[1;31mException\u001B[0m                                 Traceback (most recent call last)",
      "\u001B[1;32m<ipython-input-1-09dee0c69cbc>\u001B[0m in \u001B[0;36m<module>\u001B[1;34m\u001B[0m\n\u001B[0;32m     20\u001B[0m \u001B[1;31m# Start a SparkSession\u001B[0m\u001B[1;33m\u001B[0m\u001B[1;33m\u001B[0m\u001B[1;33m\u001B[0m\u001B[0m\n\u001B[0;32m     21\u001B[0m \u001B[1;32mimport\u001B[0m \u001B[0mfindspark\u001B[0m\u001B[1;33m\u001B[0m\u001B[1;33m\u001B[0m\u001B[0m\n\u001B[1;32m---> 22\u001B[1;33m \u001B[0mfindspark\u001B[0m\u001B[1;33m.\u001B[0m\u001B[0minit\u001B[0m\u001B[1;33m(\u001B[0m\u001B[1;33m)\u001B[0m\u001B[1;33m\u001B[0m\u001B[1;33m\u001B[0m\u001B[0m\n\u001B[0m",
      "\u001B[1;32m~\\anaconda3\\lib\\site-packages\\findspark.py\u001B[0m in \u001B[0;36minit\u001B[1;34m(spark_home, python_path, edit_rc, edit_profile)\u001B[0m\n\u001B[0;32m    158\u001B[0m             \u001B[0mpy4j\u001B[0m \u001B[1;33m=\u001B[0m \u001B[0mglob\u001B[0m\u001B[1;33m(\u001B[0m\u001B[0mos\u001B[0m\u001B[1;33m.\u001B[0m\u001B[0mpath\u001B[0m\u001B[1;33m.\u001B[0m\u001B[0mjoin\u001B[0m\u001B[1;33m(\u001B[0m\u001B[0mspark_python\u001B[0m\u001B[1;33m,\u001B[0m \u001B[1;34m\"lib\"\u001B[0m\u001B[1;33m,\u001B[0m \u001B[1;34m\"py4j-*.zip\"\u001B[0m\u001B[1;33m)\u001B[0m\u001B[1;33m)\u001B[0m\u001B[1;33m[\u001B[0m\u001B[1;36m0\u001B[0m\u001B[1;33m]\u001B[0m\u001B[1;33m\u001B[0m\u001B[1;33m\u001B[0m\u001B[0m\n\u001B[0;32m    159\u001B[0m         \u001B[1;32mexcept\u001B[0m \u001B[0mIndexError\u001B[0m\u001B[1;33m:\u001B[0m\u001B[1;33m\u001B[0m\u001B[1;33m\u001B[0m\u001B[0m\n\u001B[1;32m--> 160\u001B[1;33m             raise Exception(\n\u001B[0m\u001B[0;32m    161\u001B[0m                 \"Unable to find py4j in {}, your SPARK_HOME may not be configured correctly\".format(\n\u001B[0;32m    162\u001B[0m                     \u001B[0mspark_python\u001B[0m\u001B[1;33m\u001B[0m\u001B[1;33m\u001B[0m\u001B[0m\n",
      "\u001B[1;31mException\u001B[0m: Unable to find py4j in /content/spark-3.0.3-bin-hadoop2.7\\python, your SPARK_HOME may not be configured correctly"
     ]
    }
   ],
   "source": [
    "import os\n",
    "# Find the latest version of spark 3.0 from http://www.apache.org/dist/spark/ and enter as the spark version\n",
    "# For example:\n",
    "# spark_version = 'spark-3.0.3'\n",
    "spark_version = 'spark-3.0.3'\n",
    "os.environ['SPARK_VERSION']=spark_version\n",
    "\n",
    "# Install Spark and Java\n",
    "!apt-get update\n",
    "!apt-get install openjdk-11-jdk-headless -qq > /dev/null\n",
    "!wget -q http://www.apache.org/dist/spark/$SPARK_VERSION/$SPARK_VERSION-bin-hadoop2.7.tgz\n",
    "!tar xf $SPARK_VERSION-bin-hadoop2.7.tgz\n",
    "!pip install -q findspark\n",
    "\n",
    "# Set Environment Variables\n",
    "import os\n",
    "os.environ[\"JAVA_HOME\"] = \"/usr/lib/jvm/java-11-openjdk-amd64\"\n",
    "os.environ[\"SPARK_HOME\"] = f\"/content/{spark_version}-bin-hadoop2.7\"\n",
    "\n",
    "# Start a SparkSession\n",
    "import findspark\n",
    "findspark.init()"
   ]
  },
  {
   "cell_type": "code",
   "execution_count": 31,
   "metadata": {
    "colab": {
     "base_uri": "https://localhost:8080/"
    },
    "id": "N_DRHpntuLXv",
    "outputId": "0c6e8106-9f67-43da-9d91-d6917175b67c"
   },
   "outputs": [
    {
     "name": "stdout",
     "output_type": "stream",
     "text": [
      "--2022-02-17 23:54:32--  https://jdbc.postgresql.org/download/postgresql-42.2.16.jar\n",
      "Resolving jdbc.postgresql.org (jdbc.postgresql.org)... 72.32.157.228, 2001:4800:3e1:1::228\n",
      "Connecting to jdbc.postgresql.org (jdbc.postgresql.org)|72.32.157.228|:443... connected.\n",
      "HTTP request sent, awaiting response... 200 OK\n",
      "Length: 1002883 (979K) [application/java-archive]\n",
      "Saving to: ‘postgresql-42.2.16.jar.1’\n",
      "\n",
      "postgresql-42.2.16. 100%[===================>] 979.38K  4.58MB/s    in 0.2s    \n",
      "\n",
      "2022-02-17 23:54:33 (4.58 MB/s) - ‘postgresql-42.2.16.jar.1’ saved [1002883/1002883]\n",
      "\n"
     ]
    }
   ],
   "source": [
    "# Download the Postgres driver that will allow Spark to interact with Postgres.\n",
    "!wget https://jdbc.postgresql.org/download/postgresql-42.2.16.jar"
   ]
  },
  {
   "cell_type": "code",
   "execution_count": 32,
   "metadata": {
    "id": "SnBg147SuRgL"
   },
   "outputs": [],
   "source": [
    "from pyspark.sql import SparkSession\n",
    "spark = SparkSession.builder.appName(\"M16-Amazon-Challenge2\").config(\"spark.driver.extraClassPath\",\"/content/postgresql-42.2.16.jar\").getOrCreate()"
   ]
  },
  {
   "cell_type": "code",
   "execution_count": 33,
   "metadata": {
    "colab": {
     "base_uri": "https://localhost:8080/"
    },
    "id": "y3DjFMw1ub0S",
    "outputId": "79046611-41e1-4c18-87ec-26232f396b29"
   },
   "outputs": [
    {
     "name": "stdout",
     "output_type": "stream",
     "text": [
      "+-----------+-----------+--------------+----------+--------------+--------------------+----------------+-----------+-------------+-----------+----+-----------------+--------------------+--------------------+-----------+\n",
      "|marketplace|customer_id|     review_id|product_id|product_parent|       product_title|product_category|star_rating|helpful_votes|total_votes|vine|verified_purchase|     review_headline|         review_body|review_date|\n",
      "+-----------+-----------+--------------+----------+--------------+--------------------+----------------+-----------+-------------+-----------+----+-----------------+--------------------+--------------------+-----------+\n",
      "|         US|   24509695|R3VR960AHLFKDV|B004HB5E0E|     488241329|Shoal Creek Compu...|       Furniture|          4|            0|          0|   N|                Y|... desk is very ...|This desk is very...| 2015-08-31|\n",
      "|         US|   34731776|R16LGVMFKIUT0G|B0042TNMMS|     205864445|Dorel Home Produc...|       Furniture|          5|            0|          0|   N|                Y|          Five Stars|          Great item| 2015-08-31|\n",
      "|         US|    1272331|R1AIMEEPYHMOE4|B0030MPBZ4|     124663823|Bathroom Vanity T...|       Furniture|          5|            1|          1|   N|                Y|          Five Stars|Perfect fit for m...| 2015-08-31|\n",
      "|         US|   45284262|R1892CCSZWZ9SR|B005G02ESA|     382367578|Sleep Master Ulti...|       Furniture|          3|            0|          0|   N|                Y|         Good enough|We use this on a ...| 2015-08-31|\n",
      "|         US|   30003523|R285P679YWVKD1|B005JS8AUA|     309497463|1 1/4\" GashGuards...|       Furniture|          3|            0|          0|   N|                N|Gash Gards for da...|The product is fi...| 2015-08-31|\n",
      "|         US|   18311821| RLB33HJBXHZHU|B00AVUQQGQ|     574537906|Serta Bonded Leat...|       Furniture|          5|            0|          0|   N|                Y|          Five Stars|Love this product...| 2015-08-31|\n",
      "|         US|   42943632|R1VGTZ94DBAD6A|B00CFY20GQ|     407473883|Prepac Shoe Stora...|       Furniture|          5|            2|          2|   N|                Y|   I love this bench|I love this bench...| 2015-08-31|\n",
      "|         US|   43157304|R168KF82ICSOHD|B00FKC48QA|     435120460|HomCom PU Leather...|       Furniture|          5|            0|          0|   N|                Y|Great storage cap...|Have had this for...| 2015-08-31|\n",
      "|         US|   51918480|R20DIYIJ0OCMOG|B00N9IAL9K|     356495985|  Folding Step Stool|       Furniture|          5|            0|          0|   N|                Y|This is the best ...|This is the best ...| 2015-08-31|\n",
      "|         US|   14522766| RD46RNVOHNZSC|B001T4XU1C|     243050228|Ace Bayou Adult V...|       Furniture|          5|            0|          0|   N|                Y|    great for price!|    my son loves it!| 2015-08-31|\n",
      "|         US|   43054112|R2JDOCETTM3AXS|B002HRFLBC|      93574483|4D Concepts Audio...|       Furniture|          5|            0|          0|   N|                Y|          Five Stars|       Great product| 2015-08-31|\n",
      "|         US|   26622950|R33YMW36IDZ6LE|B006MISZOC|     941823468|Zinus SC-SBBK-14N...|       Furniture|          5|            0|          0|   N|                Y|             perfect|bought with sleep...| 2015-08-31|\n",
      "|         US|   17988940|R30ZGGUHZ04C1S|B008BMGABC|     460567746|Poundex Marble Di...|       Furniture|          5|            1|          1|   N|                Y|   Very satisfied!!!|Delivery was on t...| 2015-08-31|\n",
      "|         US|   18444952| RS2EZU76IK2BT|B00CO2VH5Y|     829613894|Safavieh Lyndhurs...|       Furniture|          5|            0|          0|   N|                Y|soft and great fo...|Exactly as pictur...| 2015-08-31|\n",
      "|         US|   16937084|R1GJC1BP028XO9|B00LI4RJQ0|     816478187|Sauder Boone Moun...|       Furniture|          5|            2|          3|   N|                Y|        Great table.|Beautiful table. ...| 2015-08-31|\n",
      "|         US|   23665632|R2VKJPGXXEK5GP|B0046EC1D0|     358594389|Winsome Wood Brea...|       Furniture|          1|            0|          0|   N|                Y|Not what I expect...|I have cleaned up...| 2015-08-31|\n",
      "|         US|    4110125|R17KS83G3KLT97|B00DQQPL36|     312571325|HODEDAH IMPORT Me...|       Furniture|          3|            0|          0|   N|                Y|         Three Stars|First one came in...| 2015-08-31|\n",
      "|         US|     107621|R3PQL8SR4NEHWL|B003X7RWB2|     402665054|Flash Furniture H...|       Furniture|          4|            0|          0|   N|                Y|          Four Stars|Good deal to get ...| 2015-08-31|\n",
      "|         US|    2415090|R2F5WW7WNO5RRG|B001TJYPJ8|     854989315|Sleep Revolution ...|       Furniture|          5|            0|          0|   N|                Y|          Five Stars|Comfortable and e...| 2015-08-31|\n",
      "|         US|   48285966|R3UDJKVWQCFIC9|B000TMHX9A|     814079288|Flash Furniture V...|       Furniture|          5|            0|          0|   N|                Y|Very comfortable....|As advertised. Ve...| 2015-08-31|\n",
      "+-----------+-----------+--------------+----------+--------------+--------------------+----------------+-----------+-------------+-----------+----+-----------------+--------------------+--------------------+-----------+\n",
      "only showing top 20 rows\n",
      "\n"
     ]
    }
   ],
   "source": [
    "from pyspark import SparkFiles\n",
    "url = \"https://s3.amazonaws.com/amazon-reviews-pds/tsv/amazon_reviews_us_Furniture_v1_00.tsv.gz\"\n",
    "spark.sparkContext.addFile(url)\n",
    "df = spark.read.option(\"encoding\",\"UTF-8\").csv(SparkFiles.get(\"amazon_reviews_us_Furniture_v1_00.tsv.gz\"), sep=\"\\t\", header=True, inferSchema=True)\n",
    "df.show()"
   ]
  },
  {
   "cell_type": "code",
   "execution_count": 34,
   "metadata": {
    "colab": {
     "base_uri": "https://localhost:8080/"
    },
    "id": "gKSSppY2vxci",
    "outputId": "dbc80730-e144-42a5-ae7e-eff238d83e36"
   },
   "outputs": [
    {
     "data": {
      "text/plain": [
       "[('marketplace', 'string'),\n",
       " ('customer_id', 'int'),\n",
       " ('review_id', 'string'),\n",
       " ('product_id', 'string'),\n",
       " ('product_parent', 'int'),\n",
       " ('product_title', 'string'),\n",
       " ('product_category', 'string'),\n",
       " ('star_rating', 'int'),\n",
       " ('helpful_votes', 'int'),\n",
       " ('total_votes', 'int'),\n",
       " ('vine', 'string'),\n",
       " ('verified_purchase', 'string'),\n",
       " ('review_headline', 'string'),\n",
       " ('review_body', 'string'),\n",
       " ('review_date', 'string')]"
      ]
     },
     "execution_count": 34,
     "metadata": {},
     "output_type": "execute_result"
    }
   ],
   "source": [
    "# Checking that the data types are correct\n",
    "df.dtypes"
   ]
  },
  {
   "cell_type": "code",
   "execution_count": 35,
   "metadata": {
    "colab": {
     "base_uri": "https://localhost:8080/"
    },
    "id": "GWIRd3XTv8AI",
    "outputId": "3c302573-c5d7-45d0-b5a8-69e4c393bd60"
   },
   "outputs": [
    {
     "name": "stdout",
     "output_type": "stream",
     "text": [
      "+-----------+-----------+--------------+----------+--------------+--------------------+----------------+-----------+-------------+-----------+----+-----------------+--------------------+--------------------+-----------+\n",
      "|marketplace|customer_id|     review_id|product_id|product_parent|       product_title|product_category|star_rating|helpful_votes|total_votes|vine|verified_purchase|     review_headline|         review_body|review_date|\n",
      "+-----------+-----------+--------------+----------+--------------+--------------------+----------------+-----------+-------------+-----------+----+-----------------+--------------------+--------------------+-----------+\n",
      "|         US|   41681546| RL8D0KJ0J9L0O|B00BWC1X3S|     328960153|Zinus 14 Inch Eli...|       Furniture|          5|          152|        165|   N|                Y|A solid VICTORY f...|I've been looking...| 2015-08-31|\n",
      "|         US|   16806846|R1BEINAIQFBRJC|B007I81A60|      68465765|8\" Night Therapy ...|       Furniture|          5|           21|         23|   N|                Y|An Engineering Su...|A full size mattr...| 2015-08-31|\n",
      "|         US|   17820936|R2L59KIJH302P9|B007QULII0|     812343799|LexMod Stencil Di...|       Furniture|          4|           26|         26|   N|                Y|     Love this chair|Love this chair, ...| 2015-08-31|\n",
      "|         US|   50476494| RR99CPG695T0I|B013L4ZWWW|     124365349|Arctic Dreams 10\"...|       Furniture|          5|          215|        248|   N|                N| QUALITY* SLEEP!!!!!|I decided to get ...| 2015-08-31|\n",
      "|         US|   21846903|R1XQNKKUPCMWVO|B00IPN64CC|     867520220|Upholstered Platf...|       Furniture|          5|           43|         44|   N|                Y|Black Tufted Desi...|I have to admit t...| 2015-08-31|\n",
      "|         US|   36021042|R3JUXVCT1NSK2A|B003PSNAI8|     219454481|Fashion Bed Group...|       Furniture|          3|           25|         26|   N|                Y|Works but has odd...|Fully assembled i...| 2015-08-31|\n",
      "|         US|    2067832|R3GNSIFV1J2Y2B|B008RKOL9G|     589861187|Big Joe Media Lou...|       Furniture|          1|           15|         60|   N|                N|   Very disappointed|The chair itself ...| 2015-08-31|\n",
      "|         US|   15624624| RTCRZARYY4LXX|B00E97HPLW|     132456290|Flash Furniture M...|       Furniture|          5|           52|         54|   N|                Y|comfortable/easy ...|Everything I expe...| 2015-08-31|\n",
      "|         US|   13214979|R3OFB4P7Y8WR27|B00QBZ25R4|     637686095|Tuft & Needle Mat...|       Furniture|          1|           15|         26|   N|                Y|Most painful matt...|This product was ...| 2015-08-31|\n",
      "|         US|   37722720|R3MTAYGQM25N63|B007J0E7WQ|     562508640|Target Marketing ...|       Furniture|          4|           58|         59|   N|                Y|Good little cabin...|Purchased this on...| 2015-08-31|\n",
      "|         US|   31278317| RJNDSWES5ISZ7|B00HTUOOBA|     995797488|Chrome Metal Bar ...|       Furniture|          5|           78|         79|   N|                Y|             AMAZING|this is a very be...| 2015-08-31|\n",
      "|         US|   21515203|R15R7STOZZP2A4|B002V1Q65Y|     320882925|Coaster Company P...|       Furniture|          5|           33|         34|   N|                Y|         Great deal!|Good quality bed....| 2015-08-31|\n",
      "|         US|   48672213|R33V5WV529NK8E|B00MULXWMU|     491669252|Modway Annabel Tw...|       Furniture|          4|           30|         32|   N|                Y|           Worth it!|Great quality for...| 2015-08-31|\n",
      "|         US|   50914859| RIR9ZI3L80P7P|B00T3MUB4Q|      76857765|WinkBeds - Mattre...|       Furniture|          3|           72|         76|   N|                N|Disappointed - re...|**** UPDATED 02-2...| 2015-08-31|\n",
      "|         US|    7691605|R10P6SDC1D6C3I|B00LZM5IOK|     420170495|Modway Lily Twin ...|       Furniture|          5|           23|         25|   N|                Y|Like it! My bed i...|Like it ! My bed ...| 2015-08-31|\n",
      "|         US|   46509642|R110G9UVLI2MLS|B00OKIPS0A|     415535727|Milton Greens Sta...|       Furniture|          5|           52|         55|   N|                Y|             Lovely!|For those living ...| 2015-08-31|\n",
      "|         US|   47359106|R1I4LN1WR3YVJX|B00NUS5D4C|     148579574|AmazonBasics 5-Sh...|       Furniture|          1|           31|         40|   N|                Y|Cheap and frustra...|Cheap product, on...| 2015-08-31|\n",
      "|         US|   23511203|R1B76MPCS05UX9|B00P7RWWM0|     259554464|Mega Motion Easy ...|       Furniture|          5|           19|         21|   N|                Y|Great chair, Don'...|Ok this chair is ...| 2015-08-31|\n",
      "|         US|    6407891|R17PJIKAZ3U6BG|B00DW7LB0G|     366981061|Simpli Home Lared...|       Furniture|          5|           21|         21|   N|                Y|I love this beaut...|We love this benc...| 2015-08-30|\n",
      "|         US|    8113934|R2T3TLCX42RWLY|B009V5YVT6|     598492986|AVE SIX Reflectio...|       Furniture|          5|           46|         48|   N|                Y|      Beyond happy!!|Honestly, a pictu...| 2015-08-30|\n",
      "+-----------+-----------+--------------+----------+--------------+--------------------+----------------+-----------+-------------+-----------+----+-----------------+--------------------+--------------------+-----------+\n",
      "only showing top 20 rows\n",
      "\n"
     ]
    }
   ],
   "source": [
    "# Getting reviews with total_vote count that is >=20\n",
    "greaterThan20 = df.filter(\"total_votes>=20\")\n",
    "greaterThan20.show()"
   ]
  },
  {
   "cell_type": "code",
   "execution_count": 36,
   "metadata": {
    "colab": {
     "base_uri": "https://localhost:8080/"
    },
    "id": "hkX2L5mFyDxd",
    "outputId": "3f27bb84-8764-43b7-9b2e-7c00366b1863"
   },
   "outputs": [
    {
     "data": {
      "text/plain": [
       "18739"
      ]
     },
     "execution_count": 36,
     "metadata": {},
     "output_type": "execute_result"
    }
   ],
   "source": [
    "greaterThan20.count()"
   ]
  },
  {
   "cell_type": "code",
   "execution_count": 37,
   "metadata": {
    "colab": {
     "base_uri": "https://localhost:8080/"
    },
    "id": "ehptpjTYxFym",
    "outputId": "f7f370a6-4846-49d5-c118-0dad36f97b49"
   },
   "outputs": [
    {
     "name": "stdout",
     "output_type": "stream",
     "text": [
      "+-----------+-----------+--------------+----------+--------------+--------------------+----------------+-----------+-------------+-----------+----+-----------------+--------------------+--------------------+-----------+\n",
      "|marketplace|customer_id|     review_id|product_id|product_parent|       product_title|product_category|star_rating|helpful_votes|total_votes|vine|verified_purchase|     review_headline|         review_body|review_date|\n",
      "+-----------+-----------+--------------+----------+--------------+--------------------+----------------+-----------+-------------+-----------+----+-----------------+--------------------+--------------------+-----------+\n",
      "|         US|   41681546| RL8D0KJ0J9L0O|B00BWC1X3S|     328960153|Zinus 14 Inch Eli...|       Furniture|          5|          152|        165|   N|                Y|A solid VICTORY f...|I've been looking...| 2015-08-31|\n",
      "|         US|   16806846|R1BEINAIQFBRJC|B007I81A60|      68465765|8\" Night Therapy ...|       Furniture|          5|           21|         23|   N|                Y|An Engineering Su...|A full size mattr...| 2015-08-31|\n",
      "|         US|   17820936|R2L59KIJH302P9|B007QULII0|     812343799|LexMod Stencil Di...|       Furniture|          4|           26|         26|   N|                Y|     Love this chair|Love this chair, ...| 2015-08-31|\n",
      "|         US|   50476494| RR99CPG695T0I|B013L4ZWWW|     124365349|Arctic Dreams 10\"...|       Furniture|          5|          215|        248|   N|                N| QUALITY* SLEEP!!!!!|I decided to get ...| 2015-08-31|\n",
      "|         US|   21846903|R1XQNKKUPCMWVO|B00IPN64CC|     867520220|Upholstered Platf...|       Furniture|          5|           43|         44|   N|                Y|Black Tufted Desi...|I have to admit t...| 2015-08-31|\n",
      "|         US|   36021042|R3JUXVCT1NSK2A|B003PSNAI8|     219454481|Fashion Bed Group...|       Furniture|          3|           25|         26|   N|                Y|Works but has odd...|Fully assembled i...| 2015-08-31|\n",
      "|         US|   15624624| RTCRZARYY4LXX|B00E97HPLW|     132456290|Flash Furniture M...|       Furniture|          5|           52|         54|   N|                Y|comfortable/easy ...|Everything I expe...| 2015-08-31|\n",
      "|         US|   13214979|R3OFB4P7Y8WR27|B00QBZ25R4|     637686095|Tuft & Needle Mat...|       Furniture|          1|           15|         26|   N|                Y|Most painful matt...|This product was ...| 2015-08-31|\n",
      "|         US|   37722720|R3MTAYGQM25N63|B007J0E7WQ|     562508640|Target Marketing ...|       Furniture|          4|           58|         59|   N|                Y|Good little cabin...|Purchased this on...| 2015-08-31|\n",
      "|         US|   31278317| RJNDSWES5ISZ7|B00HTUOOBA|     995797488|Chrome Metal Bar ...|       Furniture|          5|           78|         79|   N|                Y|             AMAZING|this is a very be...| 2015-08-31|\n",
      "|         US|   21515203|R15R7STOZZP2A4|B002V1Q65Y|     320882925|Coaster Company P...|       Furniture|          5|           33|         34|   N|                Y|         Great deal!|Good quality bed....| 2015-08-31|\n",
      "|         US|   48672213|R33V5WV529NK8E|B00MULXWMU|     491669252|Modway Annabel Tw...|       Furniture|          4|           30|         32|   N|                Y|           Worth it!|Great quality for...| 2015-08-31|\n",
      "|         US|   50914859| RIR9ZI3L80P7P|B00T3MUB4Q|      76857765|WinkBeds - Mattre...|       Furniture|          3|           72|         76|   N|                N|Disappointed - re...|**** UPDATED 02-2...| 2015-08-31|\n",
      "|         US|    7691605|R10P6SDC1D6C3I|B00LZM5IOK|     420170495|Modway Lily Twin ...|       Furniture|          5|           23|         25|   N|                Y|Like it! My bed i...|Like it ! My bed ...| 2015-08-31|\n",
      "|         US|   46509642|R110G9UVLI2MLS|B00OKIPS0A|     415535727|Milton Greens Sta...|       Furniture|          5|           52|         55|   N|                Y|             Lovely!|For those living ...| 2015-08-31|\n",
      "|         US|   47359106|R1I4LN1WR3YVJX|B00NUS5D4C|     148579574|AmazonBasics 5-Sh...|       Furniture|          1|           31|         40|   N|                Y|Cheap and frustra...|Cheap product, on...| 2015-08-31|\n",
      "|         US|   23511203|R1B76MPCS05UX9|B00P7RWWM0|     259554464|Mega Motion Easy ...|       Furniture|          5|           19|         21|   N|                Y|Great chair, Don'...|Ok this chair is ...| 2015-08-31|\n",
      "|         US|    6407891|R17PJIKAZ3U6BG|B00DW7LB0G|     366981061|Simpli Home Lared...|       Furniture|          5|           21|         21|   N|                Y|I love this beaut...|We love this benc...| 2015-08-30|\n",
      "|         US|    8113934|R2T3TLCX42RWLY|B009V5YVT6|     598492986|AVE SIX Reflectio...|       Furniture|          5|           46|         48|   N|                Y|      Beyond happy!!|Honestly, a pictu...| 2015-08-30|\n",
      "|         US|   48960668|R39YWJ09ZCPW7P|B00UXRSDF4|     949941628|2xhome - Black - ...|       Furniture|          5|           24|         28|   N|                Y|          Five Stars|Great chair great...| 2015-08-30|\n",
      "+-----------+-----------+--------------+----------+--------------+--------------------+----------------+-----------+-------------+-----------+----+-----------------+--------------------+--------------------+-----------+\n",
      "only showing top 20 rows\n",
      "\n"
     ]
    }
   ],
   "source": [
    "helpfulVotes = greaterThan20.filter(\"helpful_votes/total_votes >=0.5\")\n",
    "helpfulVotes.show()"
   ]
  },
  {
   "cell_type": "code",
   "execution_count": 38,
   "metadata": {
    "colab": {
     "base_uri": "https://localhost:8080/"
    },
    "id": "oB5i7AyyyGzF",
    "outputId": "6177bf51-bc17-4bd1-b714-1be1fdf59ecf"
   },
   "outputs": [
    {
     "data": {
      "text/plain": [
       "18155"
      ]
     },
     "execution_count": 38,
     "metadata": {},
     "output_type": "execute_result"
    }
   ],
   "source": [
    "helpfulVotes.count()"
   ]
  },
  {
   "cell_type": "code",
   "execution_count": 39,
   "metadata": {
    "colab": {
     "base_uri": "https://localhost:8080/"
    },
    "id": "pjska9KLygtJ",
    "outputId": "2642e266-a678-4d0b-9fe1-12126b4156af"
   },
   "outputs": [
    {
     "name": "stdout",
     "output_type": "stream",
     "text": [
      "+-----------+-----------+--------------+----------+--------------+--------------------+----------------+-----------+-------------+-----------+----+-----------------+--------------------+--------------------+-----------+\n",
      "|marketplace|customer_id|     review_id|product_id|product_parent|       product_title|product_category|star_rating|helpful_votes|total_votes|vine|verified_purchase|     review_headline|         review_body|review_date|\n",
      "+-----------+-----------+--------------+----------+--------------+--------------------+----------------+-----------+-------------+-----------+----+-----------------+--------------------+--------------------+-----------+\n",
      "|         US|   35119071|R2BQOD1R0228FN|B00H2RSA88|     405483618|Sleep Innovations...|       Furniture|          3|           17|         26|   Y|                N|An okay product. ...|Three-stars is co...| 2015-08-27|\n",
      "|         US|   44737123| RC31RUPFOHBHQ|B0125QZ50G|     350975212|Zinus Viscolatex ...|       Furniture|          4|          102|        117|   Y|                N| Comfort and Support|I have not tried ...| 2015-08-24|\n",
      "|         US|   51369093| REN3N1WITLF1Y|B00S5EI4C4|     153136932|Brentwood Home S-...|       Furniture|          5|           33|         37|   Y|                N|       Pros and Cons|4.5 stars<br /><b...| 2015-08-20|\n",
      "|         US|   49598970| R71RZQ9UZVG47|B00H2RSA88|     405483618|Sleep Innovations...|       Furniture|          4|           38|         47|   Y|                N|Great memory foam...|This is a good me...| 2015-08-19|\n",
      "|         US|   50507621|R38NMQBH88HLM6|B00H2RSA88|     405483618|Sleep Innovations...|       Furniture|          4|           18|         24|   Y|                N|Firm......VERY fi...|Always wanted a m...| 2015-08-17|\n",
      "|         US|   44737123|R33FGX9EE3QVR6|B00K7G8M34|     291701473|Fashion Bed Group...|       Furniture|          4|           26|         26|   Y|                N|Solid, Smooth & Q...|This is our first...| 2015-08-08|\n",
      "|         US|   17957446|R1KIOIK6WEYE59|B00ZY8DOCY|     858354913|Harmony Ergonomic...|       Furniture|          3|           19|         20|   Y|                N|Great Idea, Disap...|When I saw this i...| 2015-07-19|\n",
      "|         US|   42483100|R25X9BMOB3FD0E|B00S5EI4C4|     153136932|Brentwood Home S-...|       Furniture|          4|           32|         37|   Y|                N|My 4th latex matt...|The liner is made...| 2015-07-19|\n",
      "|         US|   52464985|R3VCKFCX2377Q2|B00Y4BGT06|     383077572|Sleep Innovations...|       Furniture|          4|           95|        101|   Y|                N|A Nest For One or...|This is a two pie...| 2015-07-04|\n",
      "|         US|   46266548|R1E0OUG63HMSM4|B00Y4BGT06|     383077572|Sleep Innovations...|       Furniture|          3|           58|         61|   Y|                N|A thoughtful prod...|We're great fans ...| 2015-07-02|\n",
      "|         US|   51923814|R1V45RUW5ZB3LS|B00WO0S5EM|     720135802|Serta Pearce Firm...|       Furniture|          4|           19|         21|   Y|                N|Reluctant Memory ...|I was impressed w...| 2015-07-01|\n",
      "|         US|   52862683| RTF6DSZ1UTLHH|B00LJ7D280|     576833455|Classic Brands Gr...|       Furniture|          5|          401|        418|   Y|                N|So comfortable, a...|[[VIDEOID:2ff2135...| 2015-06-23|\n",
      "|         US|   51903105|R1CZV9N2YLJAP7|B00LJ7D280|     576833455|Classic Brands Gr...|       Furniture|          5|          123|        136|   Y|                Y|I am loving this ...|UPDATE: As I wrot...| 2015-06-21|\n",
      "|         US|   35575415|R1OF3X9W99Y300|B00LJ7D280|     576833455|Classic Brands Gr...|       Furniture|          4|           27|         35|   Y|                N|Soft-Med firmness...|[[VIDEOID:dcb995d...| 2015-06-20|\n",
      "|         US|   51956455|R1JYKEH4CQVJ1B|B00LJ7D280|     576833455|Classic Brands Gr...|       Furniture|          5|           22|         23|   Y|                N|Sorry for writing...|1) The Competitio...| 2015-06-18|\n",
      "|         US|   37982975|R1093XVB0H2QOL|B00Y4BGT06|     383077572|Sleep Innovations...|       Furniture|          4|           51|         54|   Y|                N|Sleeping on a clo...|I swear by foam m...| 2015-06-12|\n",
      "|         US|   22656237|R3Q81B31F1CPGH|B00P21TAIK|     298322939|Chill Sack Bean B...|       Furniture|          3|           50|         55|   Y|                N|             Massive|If there's only o...| 2015-06-02|\n",
      "|         US|   34160155|R2P6XIZZPJF7AE|B00P21TAIK|     298322939|Chill Sack Bean B...|       Furniture|          5|           46|         51|   Y|                N|Humans or cats ca...|Chill Bag is the ...| 2015-05-28|\n",
      "|         US|   33167968|R3N5S06UW5MKFE|B00UVAJUBO|     584650655|Classic Brands 10...|       Furniture|          3|          907|        925|   Y|                N|3 inches of real ...|If I have $400 to...| 2015-05-23|\n",
      "|         US|   52846213|R3J9EJCVKFCRWO|B00UA8TD6O|      78126929|Safavieh Tranquil...|       Furniture|          5|           18|         20|   Y|                N|Quality, Comfort ...|Whoever thought t...| 2015-05-20|\n",
      "+-----------+-----------+--------------+----------+--------------+--------------------+----------------+-----------+-------------+-----------+----+-----------------+--------------------+--------------------+-----------+\n",
      "only showing top 20 rows\n",
      "\n"
     ]
    }
   ],
   "source": [
    "# Creating a Datafram contain those that are PAID Vine program users\n",
    "# Success can be confirmed by looking at the \"vine\" column values (They will all be \"Y\")\n",
    "vinePaidDf = helpfulVotes.filter(\"vine=='Y'\")\n",
    "vinePaidDf.show()"
   ]
  },
  {
   "cell_type": "code",
   "execution_count": 40,
   "metadata": {
    "colab": {
     "base_uri": "https://localhost:8080/"
    },
    "id": "kDSvvghvzL4z",
    "outputId": "0d5b590a-0466-4dba-f4ad-71682599e6a1"
   },
   "outputs": [
    {
     "name": "stdout",
     "output_type": "stream",
     "text": [
      "+-----------+-----------+--------------+----------+--------------+--------------------+----------------+-----------+-------------+-----------+----+-----------------+--------------------+--------------------+-----------+\n",
      "|marketplace|customer_id|     review_id|product_id|product_parent|       product_title|product_category|star_rating|helpful_votes|total_votes|vine|verified_purchase|     review_headline|         review_body|review_date|\n",
      "+-----------+-----------+--------------+----------+--------------+--------------------+----------------+-----------+-------------+-----------+----+-----------------+--------------------+--------------------+-----------+\n",
      "|         US|   41681546| RL8D0KJ0J9L0O|B00BWC1X3S|     328960153|Zinus 14 Inch Eli...|       Furniture|          5|          152|        165|   N|                Y|A solid VICTORY f...|I've been looking...| 2015-08-31|\n",
      "|         US|   16806846|R1BEINAIQFBRJC|B007I81A60|      68465765|8\" Night Therapy ...|       Furniture|          5|           21|         23|   N|                Y|An Engineering Su...|A full size mattr...| 2015-08-31|\n",
      "|         US|   17820936|R2L59KIJH302P9|B007QULII0|     812343799|LexMod Stencil Di...|       Furniture|          4|           26|         26|   N|                Y|     Love this chair|Love this chair, ...| 2015-08-31|\n",
      "|         US|   50476494| RR99CPG695T0I|B013L4ZWWW|     124365349|Arctic Dreams 10\"...|       Furniture|          5|          215|        248|   N|                N| QUALITY* SLEEP!!!!!|I decided to get ...| 2015-08-31|\n",
      "|         US|   21846903|R1XQNKKUPCMWVO|B00IPN64CC|     867520220|Upholstered Platf...|       Furniture|          5|           43|         44|   N|                Y|Black Tufted Desi...|I have to admit t...| 2015-08-31|\n",
      "|         US|   36021042|R3JUXVCT1NSK2A|B003PSNAI8|     219454481|Fashion Bed Group...|       Furniture|          3|           25|         26|   N|                Y|Works but has odd...|Fully assembled i...| 2015-08-31|\n",
      "|         US|   15624624| RTCRZARYY4LXX|B00E97HPLW|     132456290|Flash Furniture M...|       Furniture|          5|           52|         54|   N|                Y|comfortable/easy ...|Everything I expe...| 2015-08-31|\n",
      "|         US|   13214979|R3OFB4P7Y8WR27|B00QBZ25R4|     637686095|Tuft & Needle Mat...|       Furniture|          1|           15|         26|   N|                Y|Most painful matt...|This product was ...| 2015-08-31|\n",
      "|         US|   37722720|R3MTAYGQM25N63|B007J0E7WQ|     562508640|Target Marketing ...|       Furniture|          4|           58|         59|   N|                Y|Good little cabin...|Purchased this on...| 2015-08-31|\n",
      "|         US|   31278317| RJNDSWES5ISZ7|B00HTUOOBA|     995797488|Chrome Metal Bar ...|       Furniture|          5|           78|         79|   N|                Y|             AMAZING|this is a very be...| 2015-08-31|\n",
      "|         US|   21515203|R15R7STOZZP2A4|B002V1Q65Y|     320882925|Coaster Company P...|       Furniture|          5|           33|         34|   N|                Y|         Great deal!|Good quality bed....| 2015-08-31|\n",
      "|         US|   48672213|R33V5WV529NK8E|B00MULXWMU|     491669252|Modway Annabel Tw...|       Furniture|          4|           30|         32|   N|                Y|           Worth it!|Great quality for...| 2015-08-31|\n",
      "|         US|   50914859| RIR9ZI3L80P7P|B00T3MUB4Q|      76857765|WinkBeds - Mattre...|       Furniture|          3|           72|         76|   N|                N|Disappointed - re...|**** UPDATED 02-2...| 2015-08-31|\n",
      "|         US|    7691605|R10P6SDC1D6C3I|B00LZM5IOK|     420170495|Modway Lily Twin ...|       Furniture|          5|           23|         25|   N|                Y|Like it! My bed i...|Like it ! My bed ...| 2015-08-31|\n",
      "|         US|   46509642|R110G9UVLI2MLS|B00OKIPS0A|     415535727|Milton Greens Sta...|       Furniture|          5|           52|         55|   N|                Y|             Lovely!|For those living ...| 2015-08-31|\n",
      "|         US|   47359106|R1I4LN1WR3YVJX|B00NUS5D4C|     148579574|AmazonBasics 5-Sh...|       Furniture|          1|           31|         40|   N|                Y|Cheap and frustra...|Cheap product, on...| 2015-08-31|\n",
      "|         US|   23511203|R1B76MPCS05UX9|B00P7RWWM0|     259554464|Mega Motion Easy ...|       Furniture|          5|           19|         21|   N|                Y|Great chair, Don'...|Ok this chair is ...| 2015-08-31|\n",
      "|         US|    6407891|R17PJIKAZ3U6BG|B00DW7LB0G|     366981061|Simpli Home Lared...|       Furniture|          5|           21|         21|   N|                Y|I love this beaut...|We love this benc...| 2015-08-30|\n",
      "|         US|    8113934|R2T3TLCX42RWLY|B009V5YVT6|     598492986|AVE SIX Reflectio...|       Furniture|          5|           46|         48|   N|                Y|      Beyond happy!!|Honestly, a pictu...| 2015-08-30|\n",
      "|         US|   48960668|R39YWJ09ZCPW7P|B00UXRSDF4|     949941628|2xhome - Black - ...|       Furniture|          5|           24|         28|   N|                Y|          Five Stars|Great chair great...| 2015-08-30|\n",
      "+-----------+-----------+--------------+----------+--------------+--------------------+----------------+-----------+-------------+-----------+----+-----------------+--------------------+--------------------+-----------+\n",
      "only showing top 20 rows\n",
      "\n"
     ]
    }
   ],
   "source": [
    "# Creating a Datafram contain those that are UNPAID Vine program users\n",
    "# Success can be confirmed by looking at the \"vine\" column values (They will all be \"N\")\n",
    "vineUnpaidDf = helpfulVotes.filter(\"vine=='N'\")\n",
    "vineUnpaidDf.show()"
   ]
  },
  {
   "cell_type": "code",
   "execution_count": 41,
   "metadata": {
    "id": "NL5iHVjB0PP-"
   },
   "outputs": [],
   "source": [
    "# Getting the total count of unpaid and paid vine users\n",
    "totalReviewsPaid = vinePaidDf.count()\n",
    "totalReviewsUnpaid = vineUnpaidDf.count()\n",
    "\n",
    "# Getting count of 5 star ratings of unpaid and paid vine users\n",
    "fiveStarPaid = vinePaidDf.filter(\"star_rating==5\").count()\n",
    "fiveStarUnpaid = vineUnpaidDf.filter(\"star_rating==5\").count()\n",
    "\n",
    "# Getting the percentage of 5 star users for paid and unpaid vine users\n",
    "fiveStarPaidPerc = fiveStarPaid / totalReviewsPaid * 100\n",
    "fiveStarUnpaidPerc = fiveStarUnpaid / totalReviewsUnpaid * 100\n"
   ]
  },
  {
   "cell_type": "code",
   "execution_count": 42,
   "metadata": {
    "colab": {
     "base_uri": "https://localhost:8080/"
    },
    "id": "4oG3yvpj11Xe",
    "outputId": "89d724d7-d586-4895-d9f3-30b94ae0f4ca"
   },
   "outputs": [
    {
     "name": "stdout",
     "output_type": "stream",
     "text": [
      "Total number of 'Helpful' paid vine reviews: 136.000000.1\n",
      "Total number of 'Helpful' UNPAID vine reviews: 18019.000000.1\n",
      "\n",
      "\n",
      "Number of \"Helpful\" 5-star reviews by paid vine users: 74.0\n",
      "Number of \"Helpful\" 5-star reviews by UNPAID vine users: 8482.0\n",
      "\n",
      "\n",
      "Percentage of 5-star reviews by paid vine users: 54.41%\n",
      "Percentage of 5-star reviews by UNPAID vine users: 47.07%\n"
     ]
    }
   ],
   "source": [
    "print(\"Total number of 'Helpful' paid vine reviews: %f.1\" % totalReviewsPaid)\n",
    "print(\"Total number of 'Helpful' UNPAID vine reviews: %f.1\" % totalReviewsUnpaid)\n",
    "print('\\n')\n",
    "\n",
    "print('Number of \"Helpful\" 5-star reviews by paid vine users: %.1f' % fiveStarPaid)\n",
    "print('Number of \"Helpful\" 5-star reviews by UNPAID vine users: %.1f' % fiveStarUnpaid)\n",
    "print('\\n')\n",
    "\n",
    "print('Percentage of 5-star reviews by paid vine users: %.2f' % fiveStarPaidPerc + \"%\")\n",
    "print('Percentage of 5-star reviews by UNPAID vine users: %.2f' % fiveStarUnpaidPerc + \"%\")"
   ]
  },
  {
   "cell_type": "code",
   "execution_count": 42,
   "metadata": {
    "id": "vYNhT8GNp8pv"
   },
   "outputs": [],
   "source": []
  },
  {
   "cell_type": "code",
   "execution_count": 43,
   "metadata": {
    "colab": {
     "base_uri": "https://localhost:8080/",
     "height": 441
    },
    "id": "WJxc1ybj2sqV",
    "outputId": "d85e2290-0f19-4515-a7b1-64ceea8fb850"
   },
   "outputs": [
    {
     "data": {
      "text/html": [
       "\n",
       "  <div id=\"df-c9fa3c82-bb1c-4295-9c64-edb2bad0c98a\">\n",
       "    <div class=\"colab-df-container\">\n",
       "      <div>\n",
       "<style scoped>\n",
       "    .dataframe tbody tr th:only-of-type {\n",
       "        vertical-align: middle;\n",
       "    }\n",
       "\n",
       "    .dataframe tbody tr th {\n",
       "        vertical-align: top;\n",
       "    }\n",
       "\n",
       "    .dataframe thead th {\n",
       "        text-align: right;\n",
       "    }\n",
       "</style>\n",
       "<table border=\"1\" class=\"dataframe\">\n",
       "  <thead>\n",
       "    <tr style=\"text-align: right;\">\n",
       "      <th></th>\n",
       "      <th>marketplace</th>\n",
       "      <th>customer_id</th>\n",
       "      <th>review_id</th>\n",
       "      <th>product_id</th>\n",
       "      <th>product_parent</th>\n",
       "      <th>product_title</th>\n",
       "      <th>product_category</th>\n",
       "      <th>star_rating</th>\n",
       "      <th>helpful_votes</th>\n",
       "      <th>total_votes</th>\n",
       "      <th>vine</th>\n",
       "      <th>verified_purchase</th>\n",
       "      <th>review_headline</th>\n",
       "      <th>review_body</th>\n",
       "      <th>review_date</th>\n",
       "    </tr>\n",
       "  </thead>\n",
       "  <tbody>\n",
       "    <tr>\n",
       "      <th>0</th>\n",
       "      <td>US</td>\n",
       "      <td>35119071</td>\n",
       "      <td>R2BQOD1R0228FN</td>\n",
       "      <td>B00H2RSA88</td>\n",
       "      <td>405483618</td>\n",
       "      <td>Sleep Innovations 10\" Gel-Infused Memory Foam ...</td>\n",
       "      <td>Furniture</td>\n",
       "      <td>3</td>\n",
       "      <td>17</td>\n",
       "      <td>26</td>\n",
       "      <td>Y</td>\n",
       "      <td>N</td>\n",
       "      <td>An okay product. It didn't impress or disappoi...</td>\n",
       "      <td>Three-stars is considered a &amp;#34;negative&amp;#34;...</td>\n",
       "      <td>2015-08-27</td>\n",
       "    </tr>\n",
       "    <tr>\n",
       "      <th>1</th>\n",
       "      <td>US</td>\n",
       "      <td>44737123</td>\n",
       "      <td>RC31RUPFOHBHQ</td>\n",
       "      <td>B0125QZ50G</td>\n",
       "      <td>350975212</td>\n",
       "      <td>Zinus Viscolatex 10-Inch Memory Foam Mattress</td>\n",
       "      <td>Furniture</td>\n",
       "      <td>4</td>\n",
       "      <td>102</td>\n",
       "      <td>117</td>\n",
       "      <td>Y</td>\n",
       "      <td>N</td>\n",
       "      <td>Comfort and Support</td>\n",
       "      <td>I have not tried out a memory foam mattress in...</td>\n",
       "      <td>2015-08-24</td>\n",
       "    </tr>\n",
       "    <tr>\n",
       "      <th>2</th>\n",
       "      <td>US</td>\n",
       "      <td>51369093</td>\n",
       "      <td>REN3N1WITLF1Y</td>\n",
       "      <td>B00S5EI4C4</td>\n",
       "      <td>153136932</td>\n",
       "      <td>Brentwood Home S-Bed Bed, Organic Latex and Ge...</td>\n",
       "      <td>Furniture</td>\n",
       "      <td>5</td>\n",
       "      <td>33</td>\n",
       "      <td>37</td>\n",
       "      <td>Y</td>\n",
       "      <td>N</td>\n",
       "      <td>Pros and Cons</td>\n",
       "      <td>4.5 stars&lt;br /&gt;&lt;br /&gt;We’ve had this bed for th...</td>\n",
       "      <td>2015-08-20</td>\n",
       "    </tr>\n",
       "    <tr>\n",
       "      <th>3</th>\n",
       "      <td>US</td>\n",
       "      <td>49598970</td>\n",
       "      <td>R71RZQ9UZVG47</td>\n",
       "      <td>B00H2RSA88</td>\n",
       "      <td>405483618</td>\n",
       "      <td>Sleep Innovations 10\" Gel-Infused Memory Foam ...</td>\n",
       "      <td>Furniture</td>\n",
       "      <td>4</td>\n",
       "      <td>38</td>\n",
       "      <td>47</td>\n",
       "      <td>Y</td>\n",
       "      <td>N</td>\n",
       "      <td>Great memory foam mattress</td>\n",
       "      <td>This is a good memory foam mattress for the mo...</td>\n",
       "      <td>2015-08-19</td>\n",
       "    </tr>\n",
       "    <tr>\n",
       "      <th>4</th>\n",
       "      <td>US</td>\n",
       "      <td>50507621</td>\n",
       "      <td>R38NMQBH88HLM6</td>\n",
       "      <td>B00H2RSA88</td>\n",
       "      <td>405483618</td>\n",
       "      <td>Sleep Innovations 10\" Gel-Infused Memory Foam ...</td>\n",
       "      <td>Furniture</td>\n",
       "      <td>4</td>\n",
       "      <td>18</td>\n",
       "      <td>24</td>\n",
       "      <td>Y</td>\n",
       "      <td>N</td>\n",
       "      <td>Firm......VERY firm......</td>\n",
       "      <td>Always wanted a memory foam mattress.  We have...</td>\n",
       "      <td>2015-08-17</td>\n",
       "    </tr>\n",
       "  </tbody>\n",
       "</table>\n",
       "</div>\n",
       "      <button class=\"colab-df-convert\" onclick=\"convertToInteractive('df-c9fa3c82-bb1c-4295-9c64-edb2bad0c98a')\"\n",
       "              title=\"Convert this dataframe to an interactive table.\"\n",
       "              style=\"display:none;\">\n",
       "        \n",
       "  <svg xmlns=\"http://www.w3.org/2000/svg\" height=\"24px\"viewBox=\"0 0 24 24\"\n",
       "       width=\"24px\">\n",
       "    <path d=\"M0 0h24v24H0V0z\" fill=\"none\"/>\n",
       "    <path d=\"M18.56 5.44l.94 2.06.94-2.06 2.06-.94-2.06-.94-.94-2.06-.94 2.06-2.06.94zm-11 1L8.5 8.5l.94-2.06 2.06-.94-2.06-.94L8.5 2.5l-.94 2.06-2.06.94zm10 10l.94 2.06.94-2.06 2.06-.94-2.06-.94-.94-2.06-.94 2.06-2.06.94z\"/><path d=\"M17.41 7.96l-1.37-1.37c-.4-.4-.92-.59-1.43-.59-.52 0-1.04.2-1.43.59L10.3 9.45l-7.72 7.72c-.78.78-.78 2.05 0 2.83L4 21.41c.39.39.9.59 1.41.59.51 0 1.02-.2 1.41-.59l7.78-7.78 2.81-2.81c.8-.78.8-2.07 0-2.86zM5.41 20L4 18.59l7.72-7.72 1.47 1.35L5.41 20z\"/>\n",
       "  </svg>\n",
       "      </button>\n",
       "      \n",
       "  <style>\n",
       "    .colab-df-container {\n",
       "      display:flex;\n",
       "      flex-wrap:wrap;\n",
       "      gap: 12px;\n",
       "    }\n",
       "\n",
       "    .colab-df-convert {\n",
       "      background-color: #E8F0FE;\n",
       "      border: none;\n",
       "      border-radius: 50%;\n",
       "      cursor: pointer;\n",
       "      display: none;\n",
       "      fill: #1967D2;\n",
       "      height: 32px;\n",
       "      padding: 0 0 0 0;\n",
       "      width: 32px;\n",
       "    }\n",
       "\n",
       "    .colab-df-convert:hover {\n",
       "      background-color: #E2EBFA;\n",
       "      box-shadow: 0px 1px 2px rgba(60, 64, 67, 0.3), 0px 1px 3px 1px rgba(60, 64, 67, 0.15);\n",
       "      fill: #174EA6;\n",
       "    }\n",
       "\n",
       "    [theme=dark] .colab-df-convert {\n",
       "      background-color: #3B4455;\n",
       "      fill: #D2E3FC;\n",
       "    }\n",
       "\n",
       "    [theme=dark] .colab-df-convert:hover {\n",
       "      background-color: #434B5C;\n",
       "      box-shadow: 0px 1px 3px 1px rgba(0, 0, 0, 0.15);\n",
       "      filter: drop-shadow(0px 1px 2px rgba(0, 0, 0, 0.3));\n",
       "      fill: #FFFFFF;\n",
       "    }\n",
       "  </style>\n",
       "\n",
       "      <script>\n",
       "        const buttonEl =\n",
       "          document.querySelector('#df-c9fa3c82-bb1c-4295-9c64-edb2bad0c98a button.colab-df-convert');\n",
       "        buttonEl.style.display =\n",
       "          google.colab.kernel.accessAllowed ? 'block' : 'none';\n",
       "\n",
       "        async function convertToInteractive(key) {\n",
       "          const element = document.querySelector('#df-c9fa3c82-bb1c-4295-9c64-edb2bad0c98a');\n",
       "          const dataTable =\n",
       "            await google.colab.kernel.invokeFunction('convertToInteractive',\n",
       "                                                     [key], {});\n",
       "          if (!dataTable) return;\n",
       "\n",
       "          const docLinkHtml = 'Like what you see? Visit the ' +\n",
       "            '<a target=\"_blank\" href=https://colab.research.google.com/notebooks/data_table.ipynb>data table notebook</a>'\n",
       "            + ' to learn more about interactive tables.';\n",
       "          element.innerHTML = '';\n",
       "          dataTable['output_type'] = 'display_data';\n",
       "          await google.colab.output.renderOutput(dataTable, element);\n",
       "          const docLink = document.createElement('div');\n",
       "          docLink.innerHTML = docLinkHtml;\n",
       "          element.appendChild(docLink);\n",
       "        }\n",
       "      </script>\n",
       "    </div>\n",
       "  </div>\n",
       "  "
      ],
      "text/plain": [
       "  marketplace  ...  review_date\n",
       "0          US  ...   2015-08-27\n",
       "1          US  ...   2015-08-24\n",
       "2          US  ...   2015-08-20\n",
       "3          US  ...   2015-08-19\n",
       "4          US  ...   2015-08-17\n",
       "\n",
       "[5 rows x 15 columns]"
      ]
     },
     "execution_count": 43,
     "metadata": {},
     "output_type": "execute_result"
    }
   ],
   "source": [
    "import pandas as pd\n",
    "import matplotlib.pyplot as plt\n",
    "\n",
    "# Covnverting all PySpark DataFrames to Pandas DataFrames to make creating\n",
    "# our visualizaions easier.\n",
    "pdVinePaidDf = vinePaidDf.toPandas()\n",
    "pdVineUnpaidDf = vineUnpaidDf.toPandas()\n",
    "pdHelpfulDf = helpfulVotes.toPandas()\n",
    "\n",
    "\n",
    "\n",
    "pdVinePaidDf.head()"
   ]
  },
  {
   "cell_type": "markdown",
   "metadata": {
    "id": "LcdC8a3pGmAO"
   },
   "source": [
    "# Charting Results For README.md"
   ]
  },
  {
   "cell_type": "code",
   "execution_count": 44,
   "metadata": {
    "colab": {
     "base_uri": "https://localhost:8080/",
     "height": 206
    },
    "id": "QbOhax6uqMdY",
    "outputId": "cd1e7802-4a9c-4a57-ab91-f98018afd6b3"
   },
   "outputs": [
    {
     "data": {
      "text/html": [
       "\n",
       "  <div id=\"df-80820de0-4d81-4ac5-90f6-6f8fab4497e8\">\n",
       "    <div class=\"colab-df-container\">\n",
       "      <div>\n",
       "<style scoped>\n",
       "    .dataframe tbody tr th:only-of-type {\n",
       "        vertical-align: middle;\n",
       "    }\n",
       "\n",
       "    .dataframe tbody tr th {\n",
       "        vertical-align: top;\n",
       "    }\n",
       "\n",
       "    .dataframe thead th {\n",
       "        text-align: right;\n",
       "    }\n",
       "</style>\n",
       "<table border=\"1\" class=\"dataframe\">\n",
       "  <thead>\n",
       "    <tr style=\"text-align: right;\">\n",
       "      <th></th>\n",
       "      <th>vine</th>\n",
       "      <th>customer_id</th>\n",
       "    </tr>\n",
       "  </thead>\n",
       "  <tbody>\n",
       "    <tr>\n",
       "      <th>0</th>\n",
       "      <td>N</td>\n",
       "      <td>41681546</td>\n",
       "    </tr>\n",
       "    <tr>\n",
       "      <th>1</th>\n",
       "      <td>N</td>\n",
       "      <td>16806846</td>\n",
       "    </tr>\n",
       "    <tr>\n",
       "      <th>2</th>\n",
       "      <td>N</td>\n",
       "      <td>17820936</td>\n",
       "    </tr>\n",
       "    <tr>\n",
       "      <th>3</th>\n",
       "      <td>N</td>\n",
       "      <td>50476494</td>\n",
       "    </tr>\n",
       "    <tr>\n",
       "      <th>4</th>\n",
       "      <td>N</td>\n",
       "      <td>21846903</td>\n",
       "    </tr>\n",
       "  </tbody>\n",
       "</table>\n",
       "</div>\n",
       "      <button class=\"colab-df-convert\" onclick=\"convertToInteractive('df-80820de0-4d81-4ac5-90f6-6f8fab4497e8')\"\n",
       "              title=\"Convert this dataframe to an interactive table.\"\n",
       "              style=\"display:none;\">\n",
       "        \n",
       "  <svg xmlns=\"http://www.w3.org/2000/svg\" height=\"24px\"viewBox=\"0 0 24 24\"\n",
       "       width=\"24px\">\n",
       "    <path d=\"M0 0h24v24H0V0z\" fill=\"none\"/>\n",
       "    <path d=\"M18.56 5.44l.94 2.06.94-2.06 2.06-.94-2.06-.94-.94-2.06-.94 2.06-2.06.94zm-11 1L8.5 8.5l.94-2.06 2.06-.94-2.06-.94L8.5 2.5l-.94 2.06-2.06.94zm10 10l.94 2.06.94-2.06 2.06-.94-2.06-.94-.94-2.06-.94 2.06-2.06.94z\"/><path d=\"M17.41 7.96l-1.37-1.37c-.4-.4-.92-.59-1.43-.59-.52 0-1.04.2-1.43.59L10.3 9.45l-7.72 7.72c-.78.78-.78 2.05 0 2.83L4 21.41c.39.39.9.59 1.41.59.51 0 1.02-.2 1.41-.59l7.78-7.78 2.81-2.81c.8-.78.8-2.07 0-2.86zM5.41 20L4 18.59l7.72-7.72 1.47 1.35L5.41 20z\"/>\n",
       "  </svg>\n",
       "      </button>\n",
       "      \n",
       "  <style>\n",
       "    .colab-df-container {\n",
       "      display:flex;\n",
       "      flex-wrap:wrap;\n",
       "      gap: 12px;\n",
       "    }\n",
       "\n",
       "    .colab-df-convert {\n",
       "      background-color: #E8F0FE;\n",
       "      border: none;\n",
       "      border-radius: 50%;\n",
       "      cursor: pointer;\n",
       "      display: none;\n",
       "      fill: #1967D2;\n",
       "      height: 32px;\n",
       "      padding: 0 0 0 0;\n",
       "      width: 32px;\n",
       "    }\n",
       "\n",
       "    .colab-df-convert:hover {\n",
       "      background-color: #E2EBFA;\n",
       "      box-shadow: 0px 1px 2px rgba(60, 64, 67, 0.3), 0px 1px 3px 1px rgba(60, 64, 67, 0.15);\n",
       "      fill: #174EA6;\n",
       "    }\n",
       "\n",
       "    [theme=dark] .colab-df-convert {\n",
       "      background-color: #3B4455;\n",
       "      fill: #D2E3FC;\n",
       "    }\n",
       "\n",
       "    [theme=dark] .colab-df-convert:hover {\n",
       "      background-color: #434B5C;\n",
       "      box-shadow: 0px 1px 3px 1px rgba(0, 0, 0, 0.15);\n",
       "      filter: drop-shadow(0px 1px 2px rgba(0, 0, 0, 0.3));\n",
       "      fill: #FFFFFF;\n",
       "    }\n",
       "  </style>\n",
       "\n",
       "      <script>\n",
       "        const buttonEl =\n",
       "          document.querySelector('#df-80820de0-4d81-4ac5-90f6-6f8fab4497e8 button.colab-df-convert');\n",
       "        buttonEl.style.display =\n",
       "          google.colab.kernel.accessAllowed ? 'block' : 'none';\n",
       "\n",
       "        async function convertToInteractive(key) {\n",
       "          const element = document.querySelector('#df-80820de0-4d81-4ac5-90f6-6f8fab4497e8');\n",
       "          const dataTable =\n",
       "            await google.colab.kernel.invokeFunction('convertToInteractive',\n",
       "                                                     [key], {});\n",
       "          if (!dataTable) return;\n",
       "\n",
       "          const docLinkHtml = 'Like what you see? Visit the ' +\n",
       "            '<a target=\"_blank\" href=https://colab.research.google.com/notebooks/data_table.ipynb>data table notebook</a>'\n",
       "            + ' to learn more about interactive tables.';\n",
       "          element.innerHTML = '';\n",
       "          dataTable['output_type'] = 'display_data';\n",
       "          await google.colab.output.renderOutput(dataTable, element);\n",
       "          const docLink = document.createElement('div');\n",
       "          docLink.innerHTML = docLinkHtml;\n",
       "          element.appendChild(docLink);\n",
       "        }\n",
       "      </script>\n",
       "    </div>\n",
       "  </div>\n",
       "  "
      ],
      "text/plain": [
       "  vine  customer_id\n",
       "0    N     41681546\n",
       "1    N     16806846\n",
       "2    N     17820936\n",
       "3    N     50476494\n",
       "4    N     21846903"
      ]
     },
     "execution_count": 44,
     "metadata": {},
     "output_type": "execute_result"
    }
   ],
   "source": [
    "barHelpfulDf = pdHelpfulDf[['vine', 'customer_id']]\n",
    "barHelpfulDf.head()\n"
   ]
  },
  {
   "cell_type": "code",
   "execution_count": 45,
   "metadata": {
    "id": "JtG0EeoISAng"
   },
   "outputs": [],
   "source": [
    "import matplotlib.pyplot as plt\n",
    "%matplotlib inline\n",
    "plt.style.use('ggplot')"
   ]
  },
  {
   "cell_type": "code",
   "execution_count": 46,
   "metadata": {
    "id": "t1dj4lCu1EqH"
   },
   "outputs": [],
   "source": [
    "# function to add value labels to bar chart\n",
    "def addlabels(x,y):\n",
    "    for i in range(len(x)):\n",
    "        plt.text(i, y[i], y[i], ha = 'center')"
   ]
  },
  {
   "cell_type": "code",
   "execution_count": 47,
   "metadata": {
    "colab": {
     "base_uri": "https://localhost:8080/",
     "height": 408
    },
    "id": "6vglQBwiX7BX",
    "outputId": "8e5b056b-d7c7-4f5c-d860-7479a7ce748f"
   },
   "outputs": [
    {
     "data": {
      "image/png": "[encoded data removed]",
      "text/plain": [
       "<Figure size 432x432 with 1 Axes>"
      ]
     },
     "metadata": {},
     "output_type": "display_data"
    }
   ],
   "source": [
    "import numpy as np\n",
    "\n",
    "# creating color list to assign color to each bar\n",
    "colors = [\"r\",\"g\"]\n",
    "# Getting the count of paid and unpaid reviewers useing \"barHelpfulDf\" Dataframe\n",
    "pltDf = barHelpfulDf.vine.value_counts()\n",
    "\n",
    "# Using numpy to use the length of our \"pltDf.index\" list as x axis positions\n",
    "# for our bars\n",
    "x_pos = np.arange(len(pltDf.index))\n",
    "\n",
    "fig,axs = plt.subplots(figsize=(6,6))\n",
    "\n",
    "# Creating bar chart\n",
    "axs.bar(x_pos, pltDf.values, align=\"center\", color=colors)\n",
    "# Setting x axis bar label position\n",
    "axs.set_xticks(x_pos)\n",
    "# Setting x axis bar labels\n",
    "axs.set_xticklabels(pltDf.index.unique())\n",
    "# Setting bar chart title\n",
    "axs.set_title(\"Paid (Y) Vs. Unpaid (N) Reviewers\")\n",
    "# Setting x axis label\n",
    "axs.set_xlabel(\"Vine Status\")\n",
    "# Setting y axis label\n",
    "axs.set_ylabel(\"User Count\")\n",
    "# Adding value count to the top of each bar\n",
    "addlabels(pltDf.index, pltDf.values)\n",
    "\n",
    "plt.show()"
   ]
  },
  {
   "cell_type": "code",
   "execution_count": 48,
   "metadata": {
    "colab": {
     "base_uri": "https://localhost:8080/",
     "height": 483
    },
    "id": "0c-McWcFM15n",
    "outputId": "85bec7f7-dcbb-4385-dc3d-6f7da78488a3"
   },
   "outputs": [
    {
     "data": {
      "image/png": "[encoded data removed]",
      "text/plain": [
       "<Figure size 576x576 with 1 Axes>"
      ]
     },
     "metadata": {},
     "output_type": "display_data"
    }
   ],
   "source": [
    "# Function to display pie slice count and percentage\n",
    "def make_autopct(values):\n",
    "    def my_autopct(pct):\n",
    "        total = sum(values)\n",
    "        val = int(round(pct*total/100.0))\n",
    "        return '{p:.2f}%  ({v:d})'.format(p=pct,v=val)\n",
    "    return my_autopct\n",
    "\n",
    "# Getting the amount of each star rating for PAID reviewers\n",
    "pltPaidDf = pdVinePaidDf.star_rating.value_counts()\n",
    "\n",
    "myLabels = [\"5 Stars\", \"4 Stars\", \"3 Stars\", \"2 Stars\"]\n",
    "# Highlighting the 5 star slice by seperating(exploding) it from the pie\n",
    "explode = (0.1, 0.0, 0.0, 0.0,)\n",
    "\n",
    "\n",
    "fig, axs = plt.subplots(figsize=(8,8))\n",
    "\n",
    "_, texts, autotexts = axs.pie(pltPaidDf.values, \n",
    "                              explode=explode, \n",
    "                              labels=myLabels,\n",
    "                              startangle = 90, \n",
    "                              shadow = True,\n",
    "                              autopct=make_autopct(pltPaidDf.values),\n",
    "                              pctdistance=.55,\n",
    "                              wedgeprops = {'linewidth': 3})\n",
    "\n",
    "# loop to set color for text of pie slices\n",
    "for autotext in autotexts:\n",
    "    autotext.set_color('black')\n",
    "# Sets font size for slice labels\n",
    "[ _.set_fontsize(15) for _ in texts ]\n",
    "\n",
    "# Setting pie chart title\n",
    "axs.set_title('Star Ratings For Vine Users')\n",
    "\n",
    "# Displaying pie chart\n",
    "plt.show()"
   ]
  },
  {
   "cell_type": "code",
   "execution_count": 50,
   "metadata": {
    "colab": {
     "base_uri": "https://localhost:8080/"
    },
    "id": "mESS_Nr-Igxh",
    "outputId": "36bf75d8-e626-4d05-98bb-6e4845504fb6"
   },
   "outputs": [
    {
     "data": {
      "text/plain": [
       "5    8482\n",
       "1    3483\n",
       "4    3098\n",
       "3    1680\n",
       "2    1276\n",
       "Name: star_rating, dtype: int64"
      ]
     },
     "execution_count": 50,
     "metadata": {},
     "output_type": "execute_result"
    }
   ],
   "source": [
    "pltUnpaidDf = pdVineUnpaidDf.star_rating.value_counts()\n",
    "pltUnpaidDf"
   ]
  },
  {
   "cell_type": "code",
   "execution_count": 59,
   "metadata": {
    "colab": {
     "base_uri": "https://localhost:8080/",
     "height": 483
    },
    "id": "91d91XsVEZCV",
    "outputId": "d7318502-0e86-4690-c269-99b8b8225e99"
   },
   "outputs": [
    {
     "data": {
      "image/png": "[encoded data removed]",
      "text/plain": [
       "<Figure size 576x576 with 1 Axes>"
      ]
     },
     "metadata": {},
     "output_type": "display_data"
    }
   ],
   "source": [
    "# Function to display pie slice count and percentage\n",
    "def make_autopct(values):\n",
    "    def my_autopct(pct):\n",
    "        total = sum(values)\n",
    "        val = int(round(pct*total/100.0))\n",
    "        return '{p:.2f}%  ({v:d})'.format(p=pct,v=val)\n",
    "    return my_autopct\n",
    "\n",
    "# Getting the amount of each star rating for UNPAID reviewers\n",
    "pltUnpaidDf = pdVineUnpaidDf.star_rating.value_counts()\n",
    "\n",
    "myLabels = [\"5 Stars\", \"4 Stars\", \"3 Stars\", \"2 Stars\", \"1 Star\"]\n",
    "# Highlighting the 5 star slice by seperating(exploding) it from the pie\n",
    "explode = (0.1, 0.0, 0.0, 0.0, 0.0)\n",
    "\n",
    "fig, axs = plt.subplots(figsize=(8,8))\n",
    "_, texts, autotexts =axs.pie(pltUnpaidDf.values,\n",
    "                             explode=explode, \n",
    "                             labels=myLabels,startangle = 90, \n",
    "                             shadow = True,\n",
    "                             autopct=make_autopct(pltUnpaidDf.values), \n",
    "                             pctdistance=.55,\n",
    "                             wedgeprops = {'linewidth': 3})\n",
    "\n",
    "# loop to set color for text of pie slices\n",
    "for autotext in autotexts:\n",
    "    autotext.set_color('black')\n",
    "\n",
    "# Sets font size for slice labels   \n",
    "[ _.set_fontsize(15) for _ in texts ]\n",
    "\n",
    "# Sets pie chart table\n",
    "axs.set_title('Star Ratings For Regular Users')\n",
    "\n",
    "# Displaying pie chart\n",
    "plt.show()"
   ]
  }
 ],
 "metadata": {
  "colab": {
   "collapsed_sections": [],
   "name": "Vine_Review_Analysis.ipynb",
   "provenance": []
  },
  "kernelspec": {
   "display_name": "Python 3",
   "language": "python",
   "name": "python3"
  },
  "language_info": {
   "codemirror_mode": {
    "name": "ipython",
    "version": 3
   },
   "file_extension": ".py",
   "mimetype": "text/x-python",
   "name": "python",
   "nbconvert_exporter": "python",
   "pygments_lexer": "ipython3",
   "version": "3.8.8"
  }
 },
 "nbformat": 4,
 "nbformat_minor": 1
}